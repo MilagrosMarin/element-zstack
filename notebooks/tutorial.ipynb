{
 "cells": [
  {
   "attachments": {},
   "cell_type": "markdown",
   "metadata": {
    "tags": []
   },
   "source": [
    "# DataJoint Elements for Volumetric Fluorescent Microscopy\n",
    "\n",
    "#### Open-source data pipeline for processing and analyzing volumetric imaging datasets.\n",
    "\n",
    "Welcome to the tutorial for the DataJoint Element for volumetric (z-stack) imaging data. This tutorial aims to provide a comprehensive understanding of the open-source data pipeline created using `element-zstack`.\n",
    "\n",
    "This package is designed to seamlessly process, ingest, and track volumetric imaging data, along with its associated parameters such as those used for image segmentation with [cellpose](https://github.com/MouseLand/cellpose), and uploading the volume and segmentation data to [BossDB](https://bossdb.org) and visualization with [neuroglancer](https://github.com/google/neuroglancer). By the end of this tutorial, you will have a clear grasp on setting up and integrating `element-zstack` into your specific research projects and lab.\n",
    "\n",
    "![flowchart](../images/flowchart.svg)\n",
    "\n",
    "### Prerequisites\n",
    "\n",
    "Please see the [datajoint tutorials GitHub\n",
    "repository](https://github.com/datajoint/datajoint-tutorials/tree/main) before\n",
    "proceeding.\n",
    "\n",
    "A basic understanding of the following DataJoint concepts will be beneficial to your\n",
    "understanding of this tutorial: \n",
    "1. The `Imported` and `Computed` tables types in `datajoint-python`.\n",
    "2. The functionality of the `.populate()` method. \n",
    "\n",
    "#### **Tutorial Overview**\n",
    "\n",
    "+ Setup\n",
    "+ *Activate* the DataJoint pipeline.\n",
    "+ *Insert* subject, session, and scan metadata.\n",
    "+ *Populate* volume metadata from image files.\n",
    "+ Run the volume segmentation task.\n",
    "+ Upload data to BossDB.\n",
    "+ Visualize the results in Neuroglancer.\n",
    "\n",
    "### **Setup**\n",
    "\n",
    "This tutorial examines volumetric imaging data acquired with `ScanImage` and processed via\n",
    "`cellpose`. The goal is to store, track, and manage sessions of z-stack imaging data,\n",
    "including all outputs of image segmentations. \n",
    "\n",
    "The results of this Element can be combined with **other modalities** to create\n",
    "a complete, customizable data pipeline for your specific lab or study. For instance, you\n",
    "can combine `element-zstack` with `element-array-ephys` and\n",
    "`element-deeplabcut` to characterize the neural activity along with markless\n",
    "pose-estimation during behavior.\n",
    "\n",
    "### **Additional Information**\n",
    "\n",
    "While this tutorial contains the sample code to upload volumes to `BossDB`, this feature is **not supported** in the Codespaces tutorial environment. To upload your data to BossDB, and use the neuroglancer visualization tool, please follow the steps at the end of this notebook: \n",
    "\n",
    "\n",
    "\n",
    "\n",
    "In this notebook, we will explain the following concepts as they relate to this workflow:\n",
    "- What is an Element versus a Workflow?\n",
    "- Plot the workflow with `dj.Diagram`\n",
    "- Insert data into tables\n",
    "- Query table contents\n",
    "- Fetch table contents\n",
    "- Run the workflow for your experiments\n",
    "\n",
    "For detailed documentation and tutorials on general DwataJoint principles that support collaboration, automation, reproducibility, and visualizations:\n",
    "\n",
    "- [DataJoint Interactive Tutorials](https://github.com/datajoint/datajoint-tutorials) - Fundamentals including table tiers, query operations, fetch operations, automated computations with the `make` function, etc.\n",
    "\n",
    "- [DataJoint Core - Documentation](https://datajoint.com/docs/core/) - Relational data model principles\n",
    "\n",
    "- [DataJoint API for Python - Documentation](https://datajoint.com/docs/core/datajoint-python/)\n",
    "\n",
    "- [DataJoint Element for Volumetric Calcium Imaging - Documentation](https://datajoint.com/docs/elements/element-zstack/)\n",
    "\n",
    "Let's start by importing the packages necessary to run the notebook."
   ]
  },
  {
   "cell_type": "code",
   "execution_count": 2,
   "metadata": {},
   "outputs": [],
   "source": [
    "import datetime\n",
    "import datajoint as dj"
   ]
  },
  {
   "cell_type": "markdown",
   "metadata": {},
   "source": [
    "If the tutorial is run in Codespaces, a private, local database server is created and\n",
    "made available for you. This is where we will insert and store our processed results.\n",
    "let's connect to the database server."
   ]
  },
  {
   "cell_type": "code",
   "execution_count": 3,
   "metadata": {},
   "outputs": [
    {
     "name": "stderr",
     "output_type": "stream",
     "text": [
      "[2024-04-03 03:44:05,175][INFO]: Connecting root@fakeservices.datajoint.io:3306\n",
      "[2024-04-03 03:44:05,182][INFO]: Connected root@fakeservices.datajoint.io:3306\n"
     ]
    },
    {
     "data": {
      "text/plain": [
       "DataJoint connection (connected) root@fakeservices.datajoint.io:3306"
      ]
     },
     "execution_count": 3,
     "metadata": {},
     "output_type": "execute_result"
    }
   ],
   "source": [
    "dj.conn()"
   ]
  },
  {
   "cell_type": "markdown",
   "metadata": {},
   "source": [
    "### **Activate the DataJoint Pipeline**\n",
    "\n",
    "This tutorial activates the `volume.py` and `bossdb.py` modules from `element-zstack`, along\n",
    "with upstream dependencies from `element-animal` and `element-session`. Please refer to the\n",
    "[`tutorial_pipeline.py`](./tutorial_pipeline.py) for the source code."
   ]
  },
  {
   "cell_type": "code",
   "execution_count": 4,
   "metadata": {},
   "outputs": [
    {
     "name": "stderr",
     "output_type": "stream",
     "text": [
      "[2024-04-03 03:44:15,821][WARNING]: lab.Project and related tables will be removed in a future version of Element Lab. Please use the project schema.\n"
     ]
    }
   ],
   "source": [
    "from tutorial_pipeline import (\n",
    "    lab,\n",
    "    subject,\n",
    "    session,\n",
    "    scan,\n",
    "    volume,\n",
    "    bossdb,\n",
    ")"
   ]
  },
  {
   "attachments": {},
   "cell_type": "markdown",
   "metadata": {},
   "source": [
    "We can represent the tables in the `volume` and `bossdb` schemas as well as some of the\n",
    "upstream dependencies to `session` and `subject` schemas as a diagram."
   ]
  },
  {
   "cell_type": "code",
   "execution_count": 5,
   "metadata": {},
   "outputs": [
    {
     "data": {
      "image/svg+xml": [
       "<svg xmlns=\"http://www.w3.org/2000/svg\" xmlns:xlink=\"http://www.w3.org/1999/xlink\" width=\"405pt\" height=\"586pt\" viewBox=\"0.00 0.00 404.50 586.00\">\n",
       "<g id=\"graph0\" class=\"graph\" transform=\"scale(1 1) rotate(0) translate(4 582)\">\n",
       "<title>%3</title>\n",
       "<polygon fill=\"white\" stroke=\"transparent\" points=\"-4,4 -4,-582 400.5,-582 400.5,4 -4,4\"/>\n",
       "<!-- volume.SegmentationParamSet -->\n",
       "<g id=\"node1\" class=\"node\">\n",
       "<title>volume.SegmentationParamSet</title>\n",
       "<g id=\"a_node1\"><a xlink:title=\"paramset_idx         \r------------------------------\r→ volume.SegmentationMethod\rparamset_desc        \rparams               \rparamset_hash        \r\">\n",
       "<polygon fill=\"#000000\" fill-opacity=\"0.125490\" stroke=\"transparent\" points=\"390,-365 235,-365 235,-330 390,-330 390,-365\"/>\n",
       "<text text-anchor=\"start\" x=\"243\" y=\"-346\" font-family=\"arial\" text-decoration=\"underline\" font-size=\"10.00\">volume.SegmentationParamSet</text>\n",
       "</a>\n",
       "</g>\n",
       "</g>\n",
       "<!-- volume.SegmentationTask -->\n",
       "<g id=\"node5\" class=\"node\">\n",
       "<title>volume.SegmentationTask</title>\n",
       "<g id=\"a_node5\"><a xlink:title=\"→ volume.Volume\r→ volume.SegmentationParamSet\r------------------------------\rsegmentation_output_dir \rtask_mode=&quot;load&quot;     \r\">\n",
       "<polygon fill=\"#00ff00\" fill-opacity=\"0.188235\" stroke=\"#00ff00\" stroke-opacity=\"0.188235\" points=\"391.5,-294 233.5,-294 233.5,-259 391.5,-259 391.5,-294\"/>\n",
       "<text text-anchor=\"middle\" x=\"312.5\" y=\"-273.4\" font-family=\"arial\" font-size=\"12.00\" fill=\"darkgreen\">volume.SegmentationTask</text>\n",
       "</a>\n",
       "</g>\n",
       "</g>\n",
       "<!-- volume.SegmentationParamSet&#45;&gt;volume.SegmentationTask -->\n",
       "<g id=\"edge1\" class=\"edge\">\n",
       "<title>volume.SegmentationParamSet-&gt;volume.SegmentationTask</title>\n",
       "<path fill=\"none\" stroke=\"#000000\" stroke-width=\"0.75\" stroke-opacity=\"0.250980\" d=\"M312.5,-329.8C312.5,-318.95 312.5,-304.87 312.5,-294.05\"/>\n",
       "</g>\n",
       "<!-- volume.VoxelSize -->\n",
       "<g id=\"node2\" class=\"node\">\n",
       "<title>volume.VoxelSize</title>\n",
       "<g id=\"a_node2\"><a xlink:title=\"→ volume.Volume\r------------------------------\rwidth                \rheight               \rdepth                \r\">\n",
       "<polygon fill=\"#00ff00\" fill-opacity=\"0.188235\" stroke=\"#00ff00\" stroke-opacity=\"0.188235\" points=\"113,-223 0,-223 0,-188 113,-188 113,-223\"/>\n",
       "<text text-anchor=\"middle\" x=\"56.5\" y=\"-202.4\" font-family=\"arial\" font-size=\"12.00\" fill=\"darkgreen\">volume.VoxelSize</text>\n",
       "</a>\n",
       "</g>\n",
       "</g>\n",
       "<!-- bossdb.VolumeUpload -->\n",
       "<g id=\"node12\" class=\"node\">\n",
       "<title>bossdb.VolumeUpload</title>\n",
       "<g id=\"a_node12\"><a xlink:title=\"→ volume.VoxelSize\r→ bossdb.VolumeUploadTask\r\">\n",
       "<ellipse fill=\"#ff0000\" fill-opacity=\"0.125490\" stroke=\"#ff0000\" stroke-opacity=\"0.125490\" cx=\"103.5\" cy=\"-68\" rx=\"13\" ry=\"13\"/>\n",
       "<text text-anchor=\"middle\" x=\"103.5\" y=\"-64.9\" font-family=\"arial\" font-size=\"12.00\" fill=\"#7f0000\" fill-opacity=\"0.627451\">bossdb.VolumeUpload</text>\n",
       "</a>\n",
       "</g>\n",
       "</g>\n",
       "<!-- volume.VoxelSize&#45;&gt;bossdb.VolumeUpload -->\n",
       "<g id=\"edge2\" class=\"edge\">\n",
       "<title>volume.VoxelSize-&gt;bossdb.VolumeUpload</title>\n",
       "<path fill=\"none\" stroke=\"#000000\" stroke-width=\"0.75\" stroke-opacity=\"0.250980\" d=\"M56.09,-187.74C56.22,-169.64 58.09,-140.28 67.5,-117 73.75,-101.55 86.25,-86.66 94.75,-77.67\"/>\n",
       "</g>\n",
       "<!-- bossdb.VolumeUpload.WebAddress -->\n",
       "<g id=\"node3\" class=\"node\">\n",
       "<title>bossdb.VolumeUpload.WebAddress</title>\n",
       "<g id=\"a_node3\"><a xlink:title=\"→ bossdb.VolumeUpload\rupload_type=&quot;image&quot;  \rweb_address_type=&quot;bossdb&quot; \r------------------------------\rweb_address          \r\">\n",
       "<polygon fill=\"transparent\" stroke=\"transparent\" points=\"190,-19 17,-19 17,0 190,0 190,-19\"/>\n",
       "<text text-anchor=\"start\" x=\"25\" y=\"-8\" font-family=\"arial\" text-decoration=\"underline\" font-size=\"10.00\">bossdb.VolumeUpload.WebAddress</text>\n",
       "</a>\n",
       "</g>\n",
       "</g>\n",
       "<!-- session.Session -->\n",
       "<g id=\"node4\" class=\"node\">\n",
       "<title>session.Session</title>\n",
       "<g id=\"a_node4\"><a xlink:title=\"→ subject.Subject\rsession_id           \r------------------------------\rsession_datetime=null \r\">\n",
       "<polygon fill=\"#00ff00\" fill-opacity=\"0.188235\" stroke=\"#00ff00\" stroke-opacity=\"0.188235\" points=\"199.5,-507 95.5,-507 95.5,-472 199.5,-472 199.5,-507\"/>\n",
       "<text text-anchor=\"start\" x=\"103.5\" y=\"-487.4\" font-family=\"arial\" text-decoration=\"underline\" font-size=\"12.00\" fill=\"darkgreen\">session.Session</text>\n",
       "</a>\n",
       "</g>\n",
       "</g>\n",
       "<!-- scan.Scan -->\n",
       "<g id=\"node11\" class=\"node\">\n",
       "<title>scan.Scan</title>\n",
       "<g id=\"a_node11\"><a xlink:title=\"→ session.Session\rscan_id              \r------------------------------\r→ [nullable] lab.Device\r→ scan.AcquisitionSoftware\rscan_notes=&quot;&quot;        \r\">\n",
       "<polygon fill=\"#00ff00\" fill-opacity=\"0.188235\" stroke=\"#00ff00\" stroke-opacity=\"0.188235\" points=\"184,-436 111,-436 111,-401 184,-401 184,-436\"/>\n",
       "<text text-anchor=\"start\" x=\"119\" y=\"-416.4\" font-family=\"arial\" text-decoration=\"underline\" font-size=\"12.00\" fill=\"darkgreen\">scan.Scan</text>\n",
       "</a>\n",
       "</g>\n",
       "</g>\n",
       "<!-- session.Session&#45;&gt;scan.Scan -->\n",
       "<g id=\"edge3\" class=\"edge\">\n",
       "<title>session.Session-&gt;scan.Scan</title>\n",
       "<path fill=\"none\" stroke=\"#000000\" stroke-width=\"0.75\" stroke-opacity=\"0.250980\" d=\"M147.5,-471.8C147.5,-460.95 147.5,-446.87 147.5,-436.05\"/>\n",
       "</g>\n",
       "<!-- volume.Segmentation -->\n",
       "<g id=\"node9\" class=\"node\">\n",
       "<title>volume.Segmentation</title>\n",
       "<g id=\"a_node9\"><a xlink:title=\"→ volume.SegmentationTask\r\">\n",
       "<ellipse fill=\"#ff0000\" fill-opacity=\"0.125490\" stroke=\"#ff0000\" stroke-opacity=\"0.125490\" cx=\"327.5\" cy=\"-205.5\" rx=\"13\" ry=\"13\"/>\n",
       "<text text-anchor=\"middle\" x=\"327.5\" y=\"-202.4\" font-family=\"arial\" font-size=\"12.00\" fill=\"#7f0000\" fill-opacity=\"0.627451\">volume.Segmentation</text>\n",
       "</a>\n",
       "</g>\n",
       "</g>\n",
       "<!-- volume.SegmentationTask&#45;&gt;volume.Segmentation -->\n",
       "<g id=\"edge4\" class=\"edge\">\n",
       "<title>volume.SegmentationTask-&gt;volume.Segmentation</title>\n",
       "<path fill=\"none\" stroke=\"#000000\" stroke-width=\"2\" stroke-opacity=\"0.250980\" d=\"M316.13,-258.8C318.84,-246.35 322.47,-229.66 324.89,-218.51\"/>\n",
       "</g>\n",
       "<!-- volume.SegmentationMethod -->\n",
       "<g id=\"node6\" class=\"node\">\n",
       "<title>volume.SegmentationMethod</title>\n",
       "<g id=\"a_node6\"><a xlink:title=\"segmentation_method  \r------------------------------\rsegmentation_method_desc \r\">\n",
       "<polygon fill=\"#000000\" fill-opacity=\"0.125490\" stroke=\"transparent\" points=\"384,-436 241,-436 241,-401 384,-401 384,-436\"/>\n",
       "<text text-anchor=\"start\" x=\"249\" y=\"-417\" font-family=\"arial\" text-decoration=\"underline\" font-size=\"10.00\">volume.SegmentationMethod</text>\n",
       "</a>\n",
       "</g>\n",
       "</g>\n",
       "<!-- volume.SegmentationMethod&#45;&gt;volume.SegmentationParamSet -->\n",
       "<g id=\"edge5\" class=\"edge\">\n",
       "<title>volume.SegmentationMethod-&gt;volume.SegmentationParamSet</title>\n",
       "<path fill=\"none\" stroke=\"#000000\" stroke-width=\"0.75\" stroke-dasharray=\"5,2\" stroke-opacity=\"0.250980\" d=\"M312.5,-400.8C312.5,-389.95 312.5,-375.87 312.5,-365.05\"/>\n",
       "</g>\n",
       "<!-- bossdb.VolumeUploadTask -->\n",
       "<g id=\"node7\" class=\"node\">\n",
       "<title>bossdb.VolumeUploadTask</title>\n",
       "<g id=\"a_node7\"><a xlink:title=\"→ volume.Segmentation\r------------------------------\rcollection_name      \rexperiment_name      \rchannel_name         \r\">\n",
       "<polygon fill=\"#00ff00\" fill-opacity=\"0.188235\" stroke=\"#00ff00\" stroke-opacity=\"0.188235\" points=\"240,-152 77,-152 77,-117 240,-117 240,-152\"/>\n",
       "<text text-anchor=\"middle\" x=\"158.5\" y=\"-131.4\" font-family=\"arial\" font-size=\"12.00\" fill=\"darkgreen\">bossdb.VolumeUploadTask</text>\n",
       "</a>\n",
       "</g>\n",
       "</g>\n",
       "<!-- bossdb.VolumeUploadTask&#45;&gt;bossdb.VolumeUpload -->\n",
       "<g id=\"edge6\" class=\"edge\">\n",
       "<title>bossdb.VolumeUploadTask-&gt;bossdb.VolumeUpload</title>\n",
       "<path fill=\"none\" stroke=\"#000000\" stroke-width=\"2\" stroke-opacity=\"0.250980\" d=\"M144.34,-116.89C133.9,-104.65 120.07,-88.44 111.49,-78.37\"/>\n",
       "</g>\n",
       "<!-- volume.Segmentation.Mask -->\n",
       "<g id=\"node8\" class=\"node\">\n",
       "<title>volume.Segmentation.Mask</title>\n",
       "<g id=\"a_node8\"><a xlink:title=\"→ volume.Segmentation\rmask                 \r------------------------------\rmask_npix            \rmask_center_x        \rmask_center_y        \rmask_center_z        \rmask_xpix            \rmask_ypix            \rmask_zpix            \rmask_weights         \r\">\n",
       "<polygon fill=\"transparent\" stroke=\"transparent\" points=\"396.5,-144 258.5,-144 258.5,-125 396.5,-125 396.5,-144\"/>\n",
       "<text text-anchor=\"start\" x=\"266.5\" y=\"-133\" font-family=\"arial\" text-decoration=\"underline\" font-size=\"10.00\">volume.Segmentation.Mask</text>\n",
       "</a>\n",
       "</g>\n",
       "</g>\n",
       "<!-- volume.Segmentation&#45;&gt;bossdb.VolumeUploadTask -->\n",
       "<g id=\"edge7\" class=\"edge\">\n",
       "<title>volume.Segmentation-&gt;bossdb.VolumeUploadTask</title>\n",
       "<path fill=\"none\" stroke=\"#000000\" stroke-width=\"2\" stroke-opacity=\"0.250980\" d=\"M315.62,-199.65C291.8,-189.92 237.25,-167.65 199.15,-152.1\"/>\n",
       "</g>\n",
       "<!-- volume.Segmentation&#45;&gt;volume.Segmentation.Mask -->\n",
       "<g id=\"edge8\" class=\"edge\">\n",
       "<title>volume.Segmentation-&gt;volume.Segmentation.Mask</title>\n",
       "<path fill=\"none\" stroke=\"#000000\" stroke-width=\"0.75\" stroke-opacity=\"0.250980\" d=\"M327.5,-192.48C327.5,-178.74 327.5,-156.56 327.5,-144.32\"/>\n",
       "</g>\n",
       "<!-- subject.Subject -->\n",
       "<g id=\"node10\" class=\"node\">\n",
       "<title>subject.Subject</title>\n",
       "<g id=\"a_node10\"><a xlink:title=\"subject              \r------------------------------\rsubject_nickname=&quot;&quot;  \rsex                  \rsubject_birth_date   \rsubject_description=&quot;&quot; \r\">\n",
       "<polygon fill=\"#00ff00\" fill-opacity=\"0.188235\" stroke=\"#00ff00\" stroke-opacity=\"0.188235\" points=\"196.5,-578 98.5,-578 98.5,-543 196.5,-543 196.5,-578\"/>\n",
       "<text text-anchor=\"start\" x=\"106.5\" y=\"-558.4\" font-family=\"arial\" text-decoration=\"underline\" font-size=\"12.00\" fill=\"darkgreen\">subject.Subject</text>\n",
       "</a>\n",
       "</g>\n",
       "</g>\n",
       "<!-- subject.Subject&#45;&gt;session.Session -->\n",
       "<g id=\"edge9\" class=\"edge\">\n",
       "<title>subject.Subject-&gt;session.Session</title>\n",
       "<path fill=\"none\" stroke=\"#000000\" stroke-width=\"0.75\" stroke-opacity=\"0.250980\" d=\"M147.5,-542.8C147.5,-531.95 147.5,-517.87 147.5,-507.05\"/>\n",
       "</g>\n",
       "<!-- volume.Volume -->\n",
       "<g id=\"node13\" class=\"node\">\n",
       "<title>volume.Volume</title>\n",
       "<g id=\"a_node13\"><a xlink:title=\"→ scan.Scan\r------------------------------\rpx_width             \rpx_height            \rpx_depth             \rdepth_mean_brightness=null \rvolume_file_path     \r\">\n",
       "<ellipse fill=\"#00007f\" fill-opacity=\"0.250980\" stroke=\"#00007f\" stroke-opacity=\"0.250980\" cx=\"147.5\" cy=\"-347.5\" rx=\"61.75\" ry=\"17.5\"/>\n",
       "<text text-anchor=\"middle\" x=\"147.5\" y=\"-344.4\" font-family=\"arial\" font-size=\"12.00\" fill=\"#00007f\" fill-opacity=\"0.627451\">volume.Volume</text>\n",
       "</a>\n",
       "</g>\n",
       "</g>\n",
       "<!-- scan.Scan&#45;&gt;volume.Volume -->\n",
       "<g id=\"edge10\" class=\"edge\">\n",
       "<title>scan.Scan-&gt;volume.Volume</title>\n",
       "<path fill=\"none\" stroke=\"#000000\" stroke-width=\"2\" stroke-opacity=\"0.250980\" d=\"M147.5,-400.8C147.5,-389.95 147.5,-375.87 147.5,-365.05\"/>\n",
       "</g>\n",
       "<!-- bossdb.VolumeUpload&#45;&gt;bossdb.VolumeUpload.WebAddress -->\n",
       "<g id=\"edge11\" class=\"edge\">\n",
       "<title>bossdb.VolumeUpload-&gt;bossdb.VolumeUpload.WebAddress</title>\n",
       "<path fill=\"none\" stroke=\"#000000\" stroke-width=\"0.75\" stroke-opacity=\"0.250980\" d=\"M103.5,-54.74C103.5,-43.97 103.5,-28.56 103.5,-19.06\"/>\n",
       "</g>\n",
       "<!-- volume.Volume&#45;&gt;volume.VoxelSize -->\n",
       "<g id=\"edge12\" class=\"edge\">\n",
       "<title>volume.Volume-&gt;volume.VoxelSize</title>\n",
       "<path fill=\"none\" stroke=\"#000000\" stroke-width=\"2\" stroke-opacity=\"0.250980\" d=\"M136.88,-330.17C119.44,-303.33 84.91,-250.21 67.33,-223.16\"/>\n",
       "</g>\n",
       "<!-- volume.Volume&#45;&gt;volume.SegmentationTask -->\n",
       "<g id=\"edge13\" class=\"edge\">\n",
       "<title>volume.Volume-&gt;volume.SegmentationTask</title>\n",
       "<path fill=\"none\" stroke=\"#000000\" stroke-width=\"0.75\" stroke-opacity=\"0.250980\" d=\"M180.89,-332.54C207.45,-321.43 244.67,-305.86 272.76,-294.12\"/>\n",
       "</g>\n",
       "</g>\n",
       "</svg>"
      ],
      "text/plain": [
       "<datajoint.diagram.Diagram at 0x7fa76ca1a790>"
      ]
     },
     "execution_count": 5,
     "metadata": {},
     "output_type": "execute_result"
    }
   ],
   "source": [
    "(\n",
    "    dj.Diagram(subject.Subject)\n",
    "    + dj.Diagram(session.Session)\n",
    "    + dj.Diagram(scan.Scan)\n",
    "    + dj.Diagram(volume)\n",
    "    + dj.Diagram(bossdb)\n",
    ")"
   ]
  },
  {
   "cell_type": "markdown",
   "metadata": {},
   "source": [
    "As evident from the diagram, this data pipeline encompasses tables associated with\n",
    "scan and volume metadata, results of volume segmentation, and upload and visualization of results. A few tables, such as `subject.Subject` or `session.Session`,\n",
    "while important for a complete pipeline, fall outside the scope of the `element-zstack`\n",
    "tutorial, and will therefore, not be explored extensively here. The primary focus of\n",
    "this tutorial will be on the `volume` schema.\n",
    "\n",
    "### **Insert subject, session, and probe metadata**\n",
    "\n",
    "Let's start with the first table in the schema diagram (i.e. `subject.Subject` table).\n",
    "\n",
    "To know what data to insert into the table, we can view its dependencies and attributes using the `.describe()` and `.heading` methods."
   ]
  },
  {
   "cell_type": "code",
   "execution_count": null,
   "metadata": {},
   "outputs": [],
   "source": [
    "subject.Subject()"
   ]
  },
  {
   "cell_type": "code",
   "execution_count": null,
   "metadata": {},
   "outputs": [],
   "source": [
    "print(subject.Subject.describe())"
   ]
  },
  {
   "cell_type": "code",
   "execution_count": null,
   "metadata": {},
   "outputs": [],
   "source": [
    "subject.Subject.heading"
   ]
  },
  {
   "attachments": {},
   "cell_type": "markdown",
   "metadata": {},
   "source": [
    "The cells above show all attributes of the `subject.Subject` table. We will insert data into this table below."
   ]
  },
  {
   "cell_type": "code",
   "execution_count": null,
   "metadata": {},
   "outputs": [],
   "source": [
    "subject.Subject.insert1(\n",
    "    dict(\n",
    "        subject=\"subject1\",\n",
    "        sex=\"M\",\n",
    "        subject_birth_date=\"2023-01-01\",\n",
    "        subject_description=\"Cellpose segmentation of volumetric data.\",\n",
    "    )\n",
    ")\n",
    "subject.Subject()"
   ]
  },
  {
   "attachments": {},
   "cell_type": "markdown",
   "metadata": {},
   "source": [
    "Let's repeat the steps above for the `Session` table and see how the output varies\n",
    "between `.describe` and `.heading`."
   ]
  },
  {
   "cell_type": "code",
   "execution_count": null,
   "metadata": {},
   "outputs": [],
   "source": [
    "print(session.Session.describe())"
   ]
  },
  {
   "cell_type": "code",
   "execution_count": null,
   "metadata": {},
   "outputs": [],
   "source": [
    "session.Session.heading"
   ]
  },
  {
   "attachments": {},
   "cell_type": "markdown",
   "metadata": {},
   "source": [
    "Notice that `describe`, displays the table's structure and highlights its dependencies, such as its reliance on the `Subject` table. These dependencies represent foreign key references, linking data across tables.\n",
    "\n",
    "On the other hand, `heading` provides an exhaustive list of the table's attributes. This\n",
    "list includes both the attributes declared in this table and any inherited from upstream\n",
    "tables.\n",
    "\n",
    "With this understanding, let's move on to insert a session associated with our subject.\n",
    "\n",
    "We will insert into the `session.Session` table by passing a dictionary to the `insert1` method."
   ]
  },
  {
   "cell_type": "code",
   "execution_count": null,
   "metadata": {},
   "outputs": [],
   "source": [
    "session_key = dict(\n",
    "    subject=\"subject1\",\n",
    "    session_id=0,\n",
    ")\n",
    "session.Session.insert1(\n",
    "    dict(\n",
    "        session_key,\n",
    "        session_datetime=datetime.datetime.now(),\n",
    "    ),\n",
    ")\n",
    "session.Session()"
   ]
  },
  {
   "attachments": {},
   "cell_type": "markdown",
   "metadata": {},
   "source": [
    "Every experimental session produces a set of data files. The purpose of the `SessionDirectory` table is to locate these files. It references a directory path relative to a root directory, defined in `dj.config[\"custom\"]`. More information about `dj.config` is provided in the [documentation](https://datajoint.com/docs/elements/user-guide/)."
   ]
  },
  {
   "cell_type": "code",
   "execution_count": null,
   "metadata": {},
   "outputs": [],
   "source": [
    "print(session.SessionDirectory.describe())"
   ]
  },
  {
   "cell_type": "code",
   "execution_count": null,
   "metadata": {},
   "outputs": [],
   "source": [
    "session.SessionDirectory.heading"
   ]
  },
  {
   "cell_type": "code",
   "execution_count": null,
   "metadata": {},
   "outputs": [],
   "source": [
    "session.SessionDirectory.insert1(\n",
    "    dict(session_key, session_dir=\"subject1/session1\"),\n",
    "    skip_duplicates=True,\n",
    ")\n",
    "session.SessionDirectory()"
   ]
  },
  {
   "attachments": {},
   "cell_type": "markdown",
   "metadata": {},
   "source": [
    "As the Diagram indicates, the `scan.Scan` table needs to\n",
    "contain data before the tables in the `volume` schema accept any data. Let's\n",
    "start by inserting into `scan.Scan`, a table containing metadata about a calcium imaging\n",
    "scan. "
   ]
  },
  {
   "cell_type": "code",
   "execution_count": null,
   "metadata": {},
   "outputs": [],
   "source": [
    "print(scan.Scan.describe())"
   ]
  },
  {
   "cell_type": "markdown",
   "metadata": {},
   "source": [
    "The `Scan` table's attributes include the `Session` table **and** the `Device` table.\n",
    "Let's insert into the `Device` table and then `Scan`."
   ]
  },
  {
   "cell_type": "code",
   "execution_count": null,
   "metadata": {},
   "outputs": [],
   "source": [
    "lab.Device.insert1(\n",
    "    dict(\n",
    "        device=\"Mesoscope1\",\n",
    "        modality=\"Calcium imaging\",\n",
    "        description=\"Example microscope\",\n",
    "    )\n",
    ")"
   ]
  },
  {
   "cell_type": "code",
   "execution_count": null,
   "metadata": {},
   "outputs": [],
   "source": [
    "scan.Scan.insert1(\n",
    "    dict(\n",
    "        session_key,\n",
    "        scan_id=0,\n",
    "        device=\"Mesoscope1\",\n",
    "        acq_software=\"ScanImage\",\n",
    "    ),\n",
    "    skip_duplicates=True,\n",
    ")\n",
    "scan.Scan()"
   ]
  },
  {
   "attachments": {},
   "cell_type": "markdown",
   "metadata": {},
   "source": [
    "### **Populate volume metadata**\n",
    "\n",
    "In the upcoming cells, the `.populate()` method will automatically extract and store the\n",
    "volume metadata for each scan in the `volume.Volume` table."
   ]
  },
  {
   "cell_type": "code",
   "execution_count": null,
   "metadata": {},
   "outputs": [],
   "source": [
    "volume.Volume()"
   ]
  },
  {
   "cell_type": "code",
   "execution_count": null,
   "metadata": {},
   "outputs": [],
   "source": [
    "volume.Volume.populate(session_key, display_progress=True)"
   ]
  },
  {
   "attachments": {},
   "cell_type": "markdown",
   "metadata": {},
   "source": [
    "Let's view the information was entered into this table."
   ]
  },
  {
   "cell_type": "code",
   "execution_count": null,
   "metadata": {},
   "outputs": [],
   "source": [
    "volume.Volume()"
   ]
  },
  {
   "attachments": {},
   "cell_type": "markdown",
   "metadata": {},
   "source": [
    "### **Run the Segmentation Task**\n",
    "\n",
    "We're almost ready to perform volume segmentation with `cellpose`. An important step before\n",
    "processing is managing the parameters which will be used in that step. To do so, we will\n",
    "insert parameters required by cellpose into a DataJoint table\n",
    "`SegmentationParamSet`. This table keeps track of all combinations of your image\n",
    "processing parameters. You can choose which parameters are used during\n",
    "processing in a later step.\n",
    "\n",
    "Let's view the attributes and insert data into `volume.SegmentationParamSet`."
   ]
  },
  {
   "cell_type": "code",
   "execution_count": null,
   "metadata": {},
   "outputs": [],
   "source": [
    "volume.SegmentationParamSet.heading"
   ]
  },
  {
   "cell_type": "code",
   "execution_count": null,
   "metadata": {},
   "outputs": [],
   "source": [
    "volume.SegmentationParamSet.insert_new_params(\n",
    "    segmentation_method=\"cellpose\",\n",
    "    paramset_idx=1,\n",
    "    params=dict(\n",
    "        diameter=None,\n",
    "        min_size=2,\n",
    "        do_3d=False,\n",
    "        anisotropy=0.5,\n",
    "        model_type=\"nuclei\",\n",
    "        channels=[[0, 0]],\n",
    "        z_axis=0,\n",
    "        skip_duplicates=True,\n",
    "    ),\n",
    ")"
   ]
  },
  {
   "attachments": {},
   "cell_type": "markdown",
   "metadata": {},
   "source": [
    "DataJoint uses a `SegmentationTask` table to\n",
    "manage which `Volume` and `SegmentationParamSet` should be used during processing. \n",
    "\n",
    "This table is important for defining several important aspects of\n",
    "downstream processing. Let's view the attributes to get a better understanding. "
   ]
  },
  {
   "cell_type": "code",
   "execution_count": null,
   "metadata": {},
   "outputs": [],
   "source": [
    "print(volume.SegmentationTask.describe())"
   ]
  },
  {
   "cell_type": "code",
   "execution_count": null,
   "metadata": {},
   "outputs": [],
   "source": [
    "volume.SegmentationTask.heading"
   ]
  },
  {
   "attachments": {},
   "cell_type": "markdown",
   "metadata": {},
   "source": [
    "The `SegmentationTask` table contains two important attributes: \n",
    "+ `paramset_idx` - Allows the user to choose the parameter set on which to run segmentation analysis.\n",
    "+ `task_mode` - Can be set to `load` or `trigger`. When set to `load`, running the processing step initiates a search for existing output files of image segmentation. When set to `trigger`, the segmentation step will run cellpose on the raw data."
   ]
  },
  {
   "cell_type": "code",
   "execution_count": null,
   "metadata": {},
   "outputs": [],
   "source": [
    "volume.SegmentationTask.insert1(\n",
    "    dict(\n",
    "        **session_key,\n",
    "        scan_id=0,\n",
    "        paramset_idx=1,\n",
    "        task_mode=\"load\",\n",
    "        processing_output_dir=\"subject1/session1/segmentation\",\n",
    "    ),\n",
    ")"
   ]
  },
  {
   "attachments": {},
   "cell_type": "markdown",
   "metadata": {},
   "source": [
    "Let's call populate on the `Segmentation` table, which checks for cellpose results since `task_mode=load`. Please note, this step may take a few minutes to run. "
   ]
  },
  {
   "cell_type": "code",
   "execution_count": null,
   "metadata": {},
   "outputs": [],
   "source": [
    "volume.Segmentation.populate(session_key, display_progress=True)"
   ]
  },
  {
   "cell_type": "code",
   "execution_count": null,
   "metadata": {},
   "outputs": [],
   "source": [
    "volume.Segmentation()"
   ]
  },
  {
   "cell_type": "code",
   "execution_count": null,
   "metadata": {},
   "outputs": [],
   "source": [
    "volume.Segmentation.Mask()"
   ]
  },
  {
   "attachments": {},
   "cell_type": "markdown",
   "metadata": {},
   "source": [
    "### **Upload to BossDB**\n",
    "\n",
    "**Not supported in Codespaces**: Please scroll to the bottom of this notebook for instructions on how to upload data to BossDB.\n",
    "\n",
    "Volumetric data uploaded to BossDB requires information about voxel size. The\n",
    "DataJoint table `volume.VoxelSize` can be used to insert this information for a\n",
    "given dataset."
   ]
  },
  {
   "cell_type": "code",
   "execution_count": null,
   "metadata": {},
   "outputs": [],
   "source": [
    "volume.VoxelSize.heading"
   ]
  },
  {
   "cell_type": "code",
   "execution_count": null,
   "metadata": {},
   "outputs": [],
   "source": [
    "volume.VoxelSize.insert1(\n",
    "    dict(**session_key, scan_id=0, width=0.001, height=0.001, depth=0.001)\n",
    ")"
   ]
  },
  {
   "attachments": {},
   "cell_type": "markdown",
   "metadata": {},
   "source": [
    "Let's define an `upload_key` to automatically upload the volume to BossDB via the\n",
    "`bossdb` schema. The `upload_key` combines information about the current scan from\n",
    "`scan.Scan` and the `paramset_idx` from `SegmentationParamSet`."
   ]
  },
  {
   "cell_type": "code",
   "execution_count": null,
   "metadata": {},
   "outputs": [],
   "source": [
    "upload_key = dict(**session_key, scan_id=0, paramset_idx=1)"
   ]
  },
  {
   "attachments": {},
   "cell_type": "markdown",
   "metadata": {},
   "source": [
    "The first table in this schema is `VolumeUploadTask`. Let's define the upload task by naming the collection, experiment,\n",
    "and channel where the data should be uploaded."
   ]
  },
  {
   "cell_type": "code",
   "execution_count": null,
   "metadata": {},
   "outputs": [],
   "source": [
    "print(bossdb.VolumeUploadTask.describe())"
   ]
  },
  {
   "cell_type": "code",
   "execution_count": null,
   "metadata": {},
   "outputs": [],
   "source": [
    "bossdb.VolumeUploadTask.heading"
   ]
  },
  {
   "cell_type": "code",
   "execution_count": null,
   "metadata": {},
   "outputs": [],
   "source": [
    "collection = \"dataJointTestUpload\"\n",
    "experiment = \"CalciumImaging\"\n",
    "channel = \"volume-image\"\n",
    "bossdb.VolumeUploadTask.insert1(\n",
    "    dict(\n",
    "        upload_key,\n",
    "        collection_name=collection,\n",
    "        experiment_name=experiment,\n",
    "        channel_name=channel,\n",
    "    )\n",
    ")"
   ]
  },
  {
   "attachments": {},
   "cell_type": "markdown",
   "metadata": {},
   "source": [
    "Finally, we can upload data. \n",
    "\n",
    "As a reminder, uploading data to BossDB via this pipeline requires an API\n",
    "token which can be obtained by creating an account at\n",
    "[api.bossdb.io](https://api.bossdb.io). You will also need resource manager\n",
    "permissions from the team at [BossDB](https://bossdb.org)."
   ]
  },
  {
   "cell_type": "code",
   "execution_count": null,
   "metadata": {},
   "outputs": [],
   "source": [
    "bossdb.VolumeUpload.populate(upload_key)"
   ]
  },
  {
   "attachments": {},
   "cell_type": "markdown",
   "metadata": {},
   "source": [
    "To visualize the volumetric data, import the neuroglancer URL and paste it into\n",
    "your browser."
   ]
  },
  {
   "cell_type": "code",
   "execution_count": null,
   "metadata": {},
   "outputs": [],
   "source": [
    "(bossdb.VolumeUpload.WebAddress & upload_key & \"upload_type='image+annotation'\").fetch1(\n",
    "    \"web_address\"\n",
    ")"
   ]
  },
  {
   "cell_type": "markdown",
   "metadata": {},
   "source": [
    "## Summary\n",
    "\n",
    "Following this tutorial, we have: \n",
    "+ Covered the essential functionality of `element-zstack`.\n",
    "+ Learned how to manually insert data into tables.\n",
    "+ Ingested results of image processing with `cellpose`.\n",
    "\n",
    "#### Documentation and DataJoint Tutorials\n",
    "\n",
    "+ [Detailed documentation on\n",
    "  `element-zstack`.](https://datajoint.com/docs/elements/element-zstack/)\n",
    "+ [General `datajoint-python`\n",
    "  tutorials.](https://github.com/datajoint/datajoint-tutorials) covering fundamentals,\n",
    "  such as table tiers, query operations, fetch operations, automated computations with the\n",
    "  make function, and more.\n",
    "+ [Documentation for\n",
    "  `datajoint-python`.](https://datajoint.com/docs/core/datajoint-python/)\n",
    "\n",
    "##### Run this tutorial on your own data\n",
    "\n",
    "To run this tutorial notebook on your own data, please use the following steps:\n",
    "+ Download the [mysql-docker image for\n",
    "  DataJoint](https://github.com/datajoint/mysql-docker) and run the container according\n",
    "  to the instructions provide in the repository.\n",
    "+ Create a fork of this repository to your GitHub account.\n",
    "+ Clone the repository and open the files using your IDE.\n",
    "+ Add a code cell immediately after the first code cell in the notebook - we will setup\n",
    "  the local connection using this cell. In this cell, type in the following code. \n",
    "\n",
    "```python\n",
    "import datajoint as dj\n",
    "dj.config[\"database.host\"] = \"localhost\"\n",
    "dj.config[\"database.user\"] = \"<your-username>\"\n",
    "dj.config[\"database.password\"] = \"<your-password>\"\n",
    "dj.config[\"custom\"] = {\"imaging_root_data_dir\": \"path/to/your/data/dir\",\n",
    "\"database_prefix\": \"<your-username_>\"}\n",
    "dj.config.save_local()\n",
    "dj.conn()\n",
    "```\n",
    "\n",
    "+ Run the code block above and proceed with the rest of the notebook.\n",
    "\n",
    "##### Using BossDB and Neuroglancer\n",
    "\n",
    "Uploading data to BossDB and visualizing it in Neuroglancer requires the following:\n",
    "+ An API token which can be obtained by creating an account at\n",
    "[api.bossdb.io](https://api.bossdb.io). You will also need resource manager\n",
    "permissions from the team at [BossDB](https://bossdb.org).\n",
    "+ A local setup of the [intern](https://github.com/jhuapl-boss/intern) REST API\n",
    "  using the instructions below:\n",
    "    + Create a new folder `.intern` in your root directory.\n",
    "    + Create a configuration file `intern.cfg` within the `.intern` folder. The\n",
    "     path to this file should be `~/.intern/intern.cfg`. \n",
    "    + The `intern.cfg` file should contain the following exactly as shown below:\n",
    "      ```bash\n",
    "      # ~/.intern/intern.cfg\n",
    "      [Default]\n",
    "      protocol = https\n",
    "      host = api.bossdb.io\n",
    "      token = <your-api-key>\n",
    "      ```"
   ]
  },
  {
   "cell_type": "markdown",
   "metadata": {},
   "source": []
  }
 ],
 "metadata": {
  "jupytext": {
   "formats": "ipynb,py:percent"
  },
  "kernelspec": {
   "display_name": "Python 3.9.13 ('ele')",
   "language": "python",
   "name": "python3"
  },
  "language_info": {
   "codemirror_mode": {
    "name": "ipython",
    "version": 3
   },
   "file_extension": ".py",
   "mimetype": "text/x-python",
   "name": "python",
   "nbconvert_exporter": "python",
   "pygments_lexer": "ipython3",
   "version": "3.11.8"
  },
  "vscode": {
   "interpreter": {
    "hash": "d00c4ad21a7027bf1726d6ae3a9a6ef39c8838928eca5a3d5f51f3eb68720410"
   }
  }
 },
 "nbformat": 4,
 "nbformat_minor": 4
}
